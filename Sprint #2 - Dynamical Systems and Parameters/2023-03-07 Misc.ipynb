{
 "cells": [
  {
   "cell_type": "markdown",
   "id": "0c442049-d32a-45da-97cc-fe12cbbb5026",
   "metadata": {},
   "source": [
    "Subscripts in $\\LaTeX$"
   ]
  },
  {
   "cell_type": "raw",
   "id": "d6aa5ff8-6707-4943-a5b7-927ef4744d0b",
   "metadata": {},
   "source": [
    "$$\n",
    "v_max\n",
    "$$"
   ]
  },
  {
   "cell_type": "markdown",
   "id": "85925ccc-89cc-47da-ae54-db1fa89f371a",
   "metadata": {},
   "source": [
    "$$\n",
    "v_max\n",
    "$$"
   ]
  },
  {
   "cell_type": "raw",
   "id": "315c0b95-2501-4292-acce-500e257d9345",
   "metadata": {},
   "source": [
    "$$\n",
    "v_{max}\n",
    "$$"
   ]
  },
  {
   "cell_type": "markdown",
   "id": "2bf746fe-aaf8-453b-aab4-30fbfbfbd143",
   "metadata": {},
   "source": [
    "$$\n",
    "v_{max}\n",
    "$$"
   ]
  },
  {
   "cell_type": "raw",
   "id": "e625fd64-04e1-4cb2-9cc4-a78f840a6685",
   "metadata": {},
   "source": [
    "$$\n",
    "v_{\\rm max}\n",
    "$$"
   ]
  },
  {
   "cell_type": "markdown",
   "id": "74eb9dcc-83a1-4408-a9ce-d85207d456d6",
   "metadata": {},
   "source": [
    "$$\n",
    "v_{\\rm max}\n",
    "$$"
   ]
  },
  {
   "cell_type": "markdown",
   "id": "411bcf34-b3fe-4313-b510-c3bd2459e0fc",
   "metadata": {},
   "source": [
    "how about in code?  you can't do subscripts"
   ]
  },
  {
   "cell_type": "code",
   "execution_count": 1,
   "id": "d7fa576f-ef65-4456-bf24-fdf055c4e832",
   "metadata": {},
   "outputs": [],
   "source": [
    "v_max=5"
   ]
  },
  {
   "cell_type": "code",
   "execution_count": 2,
   "id": "653dc2c3-5ca1-41e2-b0d4-0e0c9addaac1",
   "metadata": {},
   "outputs": [],
   "source": [
    "v_0=5"
   ]
  },
  {
   "cell_type": "code",
   "execution_count": 3,
   "id": "3700081c-e4e5-46db-80c1-c571e39763eb",
   "metadata": {},
   "outputs": [],
   "source": [
    "v0=5"
   ]
  },
  {
   "cell_type": "code",
   "execution_count": 4,
   "id": "4f2ceb5e-06bb-40a9-8da8-ce730acaf65f",
   "metadata": {},
   "outputs": [],
   "source": [
    "vmax=5"
   ]
  },
  {
   "cell_type": "code",
   "execution_count": null,
   "id": "c5807f2c-9a9d-4850-be04-b2c3a83cdae9",
   "metadata": {},
   "outputs": [],
   "source": []
  }
 ],
 "metadata": {
  "kernelspec": {
   "display_name": "Python 3 (ipykernel)",
   "language": "python",
   "name": "python3"
  },
  "language_info": {
   "codemirror_mode": {
    "name": "ipython",
    "version": 3
   },
   "file_extension": ".py",
   "mimetype": "text/x-python",
   "name": "python",
   "nbconvert_exporter": "python",
   "pygments_lexer": "ipython3",
   "version": "3.9.13"
  }
 },
 "nbformat": 4,
 "nbformat_minor": 5
}

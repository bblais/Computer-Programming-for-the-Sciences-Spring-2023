{
 "cells": [
  {
   "cell_type": "markdown",
   "id": "d934611e-651c-4be7-8396-8e3090d9c7ed",
   "metadata": {},
   "source": [
    "The markdown guide is here:  https://www.markdownguide.org/basic-syntax/"
   ]
  },
  {
   "cell_type": "markdown",
   "id": "f346b86d-6169-458c-a6ad-a6e707bf90c3",
   "metadata": {},
   "source": [
    "For equations it uses the $\\LaTeX$ format:  https://en.wikibooks.org/wiki/LaTeX/Mathematics\n",
    "\n",
    "surround math mode in dollar signs:  \n",
    "\n",
    "- $ for inline\n",
    "- $$ for display"
   ]
  },
  {
   "cell_type": "raw",
   "id": "d958346f-2936-4ed2-be03-6825081ee7ab",
   "metadata": {},
   "source": [
    "An inline equation would look like $E=mc^2 \\times \\sqrt{\\frac{1}{1-v^2/c^2}}$. \n",
    "\n",
    "Display would be:\n",
    "\n",
    "$$\n",
    "E=mc^2 \\times \\sqrt{\\frac{1}{1-v^2/c^2}}\n",
    "$$\n",
    "\n",
    "$$\n",
    "\\gamma=\\sqrt{\\frac{1}{1-v^2/c^2}}\n",
    "$$\n",
    "\n",
    "Aligned\n",
    "\n",
    "\\begin{aligned}\n",
    "E&=mc^2 \\times \\sqrt{\\frac{1}{1-v^2/c^2}} \\\\\n",
    "\\gamma&=\\sqrt{\\frac{1}{1-v^2/c^2}}\n",
    "\\end{aligned}"
   ]
  },
  {
   "cell_type": "markdown",
   "id": "b100b561-81db-43e4-a8d9-391fa5895936",
   "metadata": {},
   "source": [
    "An inline equation would look like $E=mc^2 \\times \\sqrt{\\frac{1}{1-v^2/c^2}}$. \n",
    "\n",
    "Display would be:\n",
    "\n",
    "$$\n",
    "E=mc^2 \\times \\sqrt{\\frac{1}{1-v^2/c^2}}\n",
    "$$\n",
    "\n",
    "$$\n",
    "\\gamma=\\sqrt{\\frac{1}{1-v^2/c^2}}\n",
    "$$\n",
    "\n",
    "Aligned\n",
    "\n",
    "\\begin{aligned}\n",
    "E&=mc^2 \\times \\sqrt{\\frac{1}{1-v^2/c^2}} \\\\\n",
    "\\gamma&=\\sqrt{\\frac{1}{1-v^2/c^2}}\n",
    "\\end{aligned}"
   ]
  },
  {
   "cell_type": "code",
   "execution_count": null,
   "id": "2657d0cd-0541-4290-bf88-b3c70c492803",
   "metadata": {},
   "outputs": [],
   "source": []
  }
 ],
 "metadata": {
  "kernelspec": {
   "display_name": "Python 3 (ipykernel)",
   "language": "python",
   "name": "python3"
  },
  "language_info": {
   "codemirror_mode": {
    "name": "ipython",
    "version": 3
   },
   "file_extension": ".py",
   "mimetype": "text/x-python",
   "name": "python",
   "nbconvert_exporter": "python",
   "pygments_lexer": "ipython3",
   "version": "3.9.13"
  }
 },
 "nbformat": 4,
 "nbformat_minor": 5
}

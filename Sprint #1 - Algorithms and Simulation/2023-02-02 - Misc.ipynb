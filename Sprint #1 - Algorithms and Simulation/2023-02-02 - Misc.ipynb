{
 "cells": [
  {
   "cell_type": "code",
   "execution_count": 1,
   "id": "1274e337-e5d9-45f4-8f80-f4df0100ce54",
   "metadata": {},
   "outputs": [
    {
     "name": "stdout",
     "output_type": "stream",
     "text": [
      "start\n",
      "5\n",
      "7\n",
      "9\n",
      "11\n",
      "13\n",
      "15\n",
      "17\n",
      "19\n",
      "done.\n"
     ]
    }
   ],
   "source": [
    "x=5\n",
    "print(\"start\")\n",
    "while x<20:\n",
    "    print(x)\n",
    "    x=x+2\n",
    "    \n",
    "print(\"done.\")"
   ]
  },
  {
   "cell_type": "code",
   "execution_count": 2,
   "id": "a927bfdf-534b-4736-9840-d001d4e10dd3",
   "metadata": {},
   "outputs": [],
   "source": [
    "from pylab import *"
   ]
  },
  {
   "cell_type": "code",
   "execution_count": 3,
   "id": "8fc24ebb-ab32-4f18-9095-2ac068d18fb6",
   "metadata": {},
   "outputs": [
    {
     "data": {
      "text/plain": [
       "array([0.96134248, 0.40953618, 0.62060747, 0.84285933, 0.56730426,\n",
       "       0.39425174, 0.06758714, 0.07773909, 0.07879888, 0.52802262,\n",
       "       0.20095274, 0.9576211 , 0.78663222, 0.71567127, 0.09735655,\n",
       "       0.46943337, 0.52291769, 0.77444658, 0.76467723, 0.89505249])"
      ]
     },
     "execution_count": 3,
     "metadata": {},
     "output_type": "execute_result"
    }
   ],
   "source": [
    "rand(20)"
   ]
  },
  {
   "cell_type": "code",
   "execution_count": null,
   "id": "b21e6368-8cd3-41b2-abe7-25943bcc829b",
   "metadata": {},
   "outputs": [],
   "source": []
  }
 ],
 "metadata": {
  "kernelspec": {
   "display_name": "Python 3 (ipykernel)",
   "language": "python",
   "name": "python3"
  },
  "language_info": {
   "codemirror_mode": {
    "name": "ipython",
    "version": 3
   },
   "file_extension": ".py",
   "mimetype": "text/x-python",
   "name": "python",
   "nbconvert_exporter": "python",
   "pygments_lexer": "ipython3",
   "version": "3.9.13"
  }
 },
 "nbformat": 4,
 "nbformat_minor": 5
}

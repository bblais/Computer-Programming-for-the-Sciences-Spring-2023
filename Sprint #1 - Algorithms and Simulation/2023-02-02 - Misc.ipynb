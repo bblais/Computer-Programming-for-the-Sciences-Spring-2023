{
 "cells": [
  {
   "cell_type": "code",
   "execution_count": 1,
   "id": "1274e337-e5d9-45f4-8f80-f4df0100ce54",
   "metadata": {},
   "outputs": [
    {
     "name": "stdout",
     "output_type": "stream",
     "text": [
      "start\n",
      "5\n",
      "7\n",
      "9\n",
      "11\n",
      "13\n",
      "15\n",
      "17\n",
      "19\n",
      "done.\n"
     ]
    }
   ],
   "source": [
    "x=5\n",
    "print(\"start\")\n",
    "while x<20:\n",
    "    print(x)\n",
    "    x=x+2\n",
    "    \n",
    "print(\"done.\")"
   ]
  },
  {
   "cell_type": "code",
   "execution_count": null,
   "id": "a927bfdf-534b-4736-9840-d001d4e10dd3",
   "metadata": {},
   "outputs": [],
   "source": []
  }
 ],
 "metadata": {
  "kernelspec": {
   "display_name": "Python 3 (ipykernel)",
   "language": "python",
   "name": "python3"
  },
  "language_info": {
   "codemirror_mode": {
    "name": "ipython",
    "version": 3
   },
   "file_extension": ".py",
   "mimetype": "text/x-python",
   "name": "python",
   "nbconvert_exporter": "python",
   "pygments_lexer": "ipython3",
   "version": "3.9.13"
  }
 },
 "nbformat": 4,
 "nbformat_minor": 5
}

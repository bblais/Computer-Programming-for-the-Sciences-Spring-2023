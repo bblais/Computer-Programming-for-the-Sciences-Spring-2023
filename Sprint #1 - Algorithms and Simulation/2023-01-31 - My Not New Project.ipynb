{
 "cells": [
  {
   "cell_type": "code",
   "execution_count": 1,
   "id": "adddfcee-960f-4d86-90b9-e592c5fa5ed7",
   "metadata": {},
   "outputs": [
    {
     "data": {
      "text/plain": [
       "10"
      ]
     },
     "execution_count": 1,
     "metadata": {},
     "output_type": "execute_result"
    }
   ],
   "source": [
    "5+5"
   ]
  },
  {
   "cell_type": "code",
   "execution_count": 2,
   "id": "811621ac-8ae5-4fac-9970-c3d7b220f831",
   "metadata": {},
   "outputs": [],
   "source": [
    "a=8"
   ]
  },
  {
   "cell_type": "code",
   "execution_count": 3,
   "id": "98fef03d-1a6a-4789-805f-f285e4db0c66",
   "metadata": {},
   "outputs": [],
   "source": [
    "b=10"
   ]
  },
  {
   "cell_type": "code",
   "execution_count": 4,
   "id": "c3860580-3cc7-4ccb-8026-1b8fb4046a6a",
   "metadata": {},
   "outputs": [
    {
     "data": {
      "text/plain": [
       "18"
      ]
     },
     "execution_count": 4,
     "metadata": {},
     "output_type": "execute_result"
    }
   ],
   "source": [
    "a+b"
   ]
  },
  {
   "cell_type": "code",
   "execution_count": 5,
   "id": "0f0f42d4-fade-41dc-a72e-fb0454b7453e",
   "metadata": {},
   "outputs": [
    {
     "data": {
      "text/plain": [
       "585702093804579040551544692"
      ]
     },
     "execution_count": 5,
     "metadata": {},
     "output_type": "execute_result"
    }
   ],
   "source": [
    "784634738937363*746464647484"
   ]
  },
  {
   "cell_type": "markdown",
   "id": "7fd2356a-c812-4f6b-9a44-35b4fb38e0b8",
   "metadata": {},
   "source": [
    "# Sum all the numbers from 1 to 10\n",
    "\n",
    "## subheading\n",
    "\n",
    "### subsub heading\n",
    "\n",
    "\n",
    "\n",
    "\n",
    "$$\n",
    "\\sum_{i=1}{10} i\n",
    "$$"
   ]
  },
  {
   "cell_type": "markdown",
   "id": "173d5ae2-9d5a-4f1c-96e8-4d5ae3cc8f53",
   "metadata": {},
   "source": [
    "- this\n",
    "- is \n",
    "- a\n",
    "- bulleted\n",
    "- list\n",
    "\n",
    "https://www.markdownguide.org/basic-syntax/"
   ]
  },
  {
   "cell_type": "markdown",
   "id": "1f594d31-458c-4245-834e-78a1e53c3abc",
   "metadata": {},
   "source": [
    "This is **bold** or *italic*"
   ]
  },
  {
   "cell_type": "code",
   "execution_count": 6,
   "id": "e49c62a7-e651-4f17-b12b-c578289eefad",
   "metadata": {},
   "outputs": [],
   "source": [
    "S=1+2+3+4+5+6+7+8+9+10"
   ]
  },
  {
   "cell_type": "code",
   "execution_count": 7,
   "id": "9a6e02b5-8b22-49b6-91af-67052e1ce864",
   "metadata": {},
   "outputs": [
    {
     "data": {
      "text/plain": [
       "55"
      ]
     },
     "execution_count": 7,
     "metadata": {},
     "output_type": "execute_result"
    }
   ],
   "source": [
    "S"
   ]
  },
  {
   "cell_type": "code",
   "execution_count": 8,
   "id": "2a0a55ce-bb37-4e99-9cec-680c5232e6b0",
   "metadata": {},
   "outputs": [
    {
     "name": "stdout",
     "output_type": "stream",
     "text": [
      "one\n",
      "0\n",
      "here\n",
      "1\n",
      "here\n",
      "2\n",
      "here\n",
      "3\n",
      "here\n",
      "4\n",
      "here\n",
      "5\n",
      "here\n",
      "6\n",
      "here\n",
      "7\n",
      "here\n",
      "8\n",
      "here\n",
      "9\n",
      "here\n",
      "two\n"
     ]
    }
   ],
   "source": [
    "print(\"one\")\n",
    "for i in range(10):\n",
    "    print(i)\n",
    "    print(\"here\")\n",
    "    \n",
    "print(\"two\")"
   ]
  },
  {
   "cell_type": "code",
   "execution_count": 9,
   "id": "c9caf72c-66c5-4626-bcf9-21ffee180a87",
   "metadata": {},
   "outputs": [
    {
     "name": "stdout",
     "output_type": "stream",
     "text": [
      "one\n",
      "9\n",
      "here\n",
      "9\n",
      "here\n",
      "9\n",
      "here\n",
      "9\n",
      "here\n",
      "9\n",
      "here\n",
      "9\n",
      "here\n",
      "9\n",
      "here\n",
      "9\n",
      "here\n",
      "9\n",
      "here\n",
      "9\n",
      "here\n",
      "two\n"
     ]
    }
   ],
   "source": [
    "print(\"one\")\n",
    "for bob in range(10):\n",
    "    print(i)\n",
    "    print(\"here\")\n",
    "    \n",
    "print(\"two\")"
   ]
  },
  {
   "cell_type": "code",
   "execution_count": 10,
   "id": "71e54bce-0fb2-483a-b79d-7157f5b51689",
   "metadata": {},
   "outputs": [
    {
     "name": "stdout",
     "output_type": "stream",
     "text": [
      "one\n"
     ]
    },
    {
     "ename": "NameError",
     "evalue": "name 'BOB' is not defined",
     "output_type": "error",
     "traceback": [
      "\u001b[0;31m---------------------------------------------------------------------------\u001b[0m",
      "\u001b[0;31mNameError\u001b[0m                                 Traceback (most recent call last)",
      "\u001b[0;32m~/tmp/ipykernel_16781/1568794556.py\u001b[0m in \u001b[0;36m<module>\u001b[0;34m\u001b[0m\n\u001b[1;32m      1\u001b[0m \u001b[0mprint\u001b[0m\u001b[0;34m(\u001b[0m\u001b[0;34m\"one\"\u001b[0m\u001b[0;34m)\u001b[0m\u001b[0;34m\u001b[0m\u001b[0;34m\u001b[0m\u001b[0m\n\u001b[1;32m      2\u001b[0m \u001b[0;32mfor\u001b[0m \u001b[0mbob\u001b[0m \u001b[0;32min\u001b[0m \u001b[0mrange\u001b[0m\u001b[0;34m(\u001b[0m\u001b[0;36m10\u001b[0m\u001b[0;34m)\u001b[0m\u001b[0;34m:\u001b[0m\u001b[0;34m\u001b[0m\u001b[0;34m\u001b[0m\u001b[0m\n\u001b[0;32m----> 3\u001b[0;31m     \u001b[0mprint\u001b[0m\u001b[0;34m(\u001b[0m\u001b[0mBOB\u001b[0m\u001b[0;34m)\u001b[0m\u001b[0;34m\u001b[0m\u001b[0;34m\u001b[0m\u001b[0m\n\u001b[0m\u001b[1;32m      4\u001b[0m     \u001b[0mprint\u001b[0m\u001b[0;34m(\u001b[0m\u001b[0;34m\"here\"\u001b[0m\u001b[0;34m)\u001b[0m\u001b[0;34m\u001b[0m\u001b[0;34m\u001b[0m\u001b[0m\n\u001b[1;32m      5\u001b[0m \u001b[0;34m\u001b[0m\u001b[0m\n",
      "\u001b[0;31mNameError\u001b[0m: name 'BOB' is not defined"
     ]
    }
   ],
   "source": [
    "print(\"one\")\n",
    "for bob in range(10):\n",
    "    print(BOB)\n",
    "    print(\"here\")\n",
    "    \n",
    "print(\"two\")"
   ]
  },
  {
   "cell_type": "code",
   "execution_count": 11,
   "id": "1727c93f-ed15-426f-905c-05f2f1c7cf78",
   "metadata": {},
   "outputs": [
    {
     "name": "stdout",
     "output_type": "stream",
     "text": [
      "one\n",
      "0\n",
      "here\n",
      "1\n",
      "here\n",
      "2\n",
      "here\n",
      "3\n",
      "here\n",
      "4\n",
      "here\n",
      "5\n",
      "here\n",
      "6\n",
      "here\n",
      "7\n",
      "here\n",
      "8\n",
      "here\n",
      "9\n",
      "here\n",
      "two\n"
     ]
    }
   ],
   "source": [
    "print(\"one\")\n",
    "for bob in range(10):\n",
    "    print(bob)\n",
    "    print(\"here\")\n",
    "    \n",
    "print(\"two\")"
   ]
  },
  {
   "cell_type": "code",
   "execution_count": 12,
   "id": "cf6dc8a8-6ebd-4de6-b54d-60205e75c7f0",
   "metadata": {},
   "outputs": [],
   "source": [
    "a=5\n",
    "a=a+6"
   ]
  },
  {
   "cell_type": "code",
   "execution_count": 13,
   "id": "40919afa-ac3e-464a-accb-ea6dfc0a996f",
   "metadata": {},
   "outputs": [
    {
     "data": {
      "text/plain": [
       "11"
      ]
     },
     "execution_count": 13,
     "metadata": {},
     "output_type": "execute_result"
    }
   ],
   "source": [
    "a"
   ]
  },
  {
   "cell_type": "code",
   "execution_count": 14,
   "id": "fc858f2b-2ec9-41b3-aa08-007e323ee278",
   "metadata": {},
   "outputs": [
    {
     "name": "stdout",
     "output_type": "stream",
     "text": [
      "1 1\n",
      "2 3\n",
      "3 6\n",
      "4 10\n",
      "5 15\n",
      "6 21\n",
      "7 28\n",
      "8 36\n",
      "9 45\n",
      "10 55\n"
     ]
    }
   ],
   "source": [
    "S=0\n",
    "n=1\n",
    "for i in range(10):\n",
    "    S=S+n\n",
    "    print(n,S)\n",
    "    n=n+1\n"
   ]
  },
  {
   "cell_type": "code",
   "execution_count": 15,
   "id": "25bb9caa-9586-41c2-9ed0-77d969a7856c",
   "metadata": {},
   "outputs": [],
   "source": [
    "S=0\n",
    "n=1\n",
    "for i in range(100):\n",
    "    S=S+n\n",
    "    n=n+1\n"
   ]
  },
  {
   "cell_type": "code",
   "execution_count": 16,
   "id": "7b57bd10-a95b-4a09-bf9f-75e61c344e14",
   "metadata": {},
   "outputs": [
    {
     "data": {
      "text/plain": [
       "5050"
      ]
     },
     "execution_count": 16,
     "metadata": {},
     "output_type": "execute_result"
    }
   ],
   "source": [
    "S"
   ]
  },
  {
   "cell_type": "markdown",
   "id": "ab223bbe-1c9a-4fba-8c1f-ef19864d5350",
   "metadata": {},
   "source": [
    "what is the factorial of 100?"
   ]
  },
  {
   "cell_type": "code",
   "execution_count": 17,
   "id": "6d1cf67a-e198-4794-89d9-3128988d1598",
   "metadata": {},
   "outputs": [],
   "source": [
    "S=1\n",
    "n=1\n",
    "for i in range(100):\n",
    "    S=S*n\n",
    "    n=n+1\n"
   ]
  },
  {
   "cell_type": "code",
   "execution_count": 18,
   "id": "97524530-0919-4654-a064-ee4d75570000",
   "metadata": {},
   "outputs": [
    {
     "data": {
      "text/plain": [
       "93326215443944152681699238856266700490715968264381621468592963895217599993229915608941463976156518286253697920827223758251185210916864000000000000000000000000"
      ]
     },
     "execution_count": 18,
     "metadata": {},
     "output_type": "execute_result"
    }
   ],
   "source": [
    "S"
   ]
  },
  {
   "cell_type": "code",
   "execution_count": 21,
   "id": "eb33db67-b34b-412d-a198-bb8d7cb1ab06",
   "metadata": {},
   "outputs": [],
   "source": [
    "def factorial(N):\n",
    "    S=1\n",
    "    n=1\n",
    "    for i in range(N):\n",
    "        S=S*n\n",
    "        n=n+1\n",
    "        \n",
    "    return S\n",
    "        "
   ]
  },
  {
   "cell_type": "code",
   "execution_count": 23,
   "id": "c472f338-0aa9-4d23-8154-971e6c220350",
   "metadata": {},
   "outputs": [
    {
     "data": {
      "text/plain": [
       "93326215443944152681699238856266700490715968264381621468592963895217599993229915608941463976156518286253697920827223758251185210916864000000000000000000000000"
      ]
     },
     "execution_count": 23,
     "metadata": {},
     "output_type": "execute_result"
    }
   ],
   "source": [
    "factorial(100)"
   ]
  },
  {
   "cell_type": "code",
   "execution_count": null,
   "id": "254f256a-3940-48bb-9777-9d9be9763333",
   "metadata": {},
   "outputs": [],
   "source": []
  }
 ],
 "metadata": {
  "kernelspec": {
   "display_name": "Python 3 (ipykernel)",
   "language": "python",
   "name": "python3"
  },
  "language_info": {
   "codemirror_mode": {
    "name": "ipython",
    "version": 3
   },
   "file_extension": ".py",
   "mimetype": "text/x-python",
   "name": "python",
   "nbconvert_exporter": "python",
   "pygments_lexer": "ipython3",
   "version": "3.9.13"
  }
 },
 "nbformat": 4,
 "nbformat_minor": 5
}
